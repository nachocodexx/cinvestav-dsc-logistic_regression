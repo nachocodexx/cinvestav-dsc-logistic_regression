{
 "cells": [
  {
   "cell_type": "code",
   "execution_count": 10,
   "id": "southeast-piece",
   "metadata": {},
   "outputs": [],
   "source": [
    "import numpy as np \n",
    "import pandas as pd\n",
    "import matplotlib.pyplot as plt\n",
    "import seaborn as sns\n",
    "from sklearn.model_selection import train_test_split\n",
    "from sklearn.linear_model import LogisticRegression\n",
    "from sklearn.metrics import confusion_matrix as CM,plot_confusion_matrix as PCM,classification_report as CR\n",
    "from sklearn.preprocessing import StandardScaler \n",
    "SS = StandardScaler()"
   ]
  },
  {
   "cell_type": "markdown",
   "id": "welcome-williams",
   "metadata": {},
   "source": [
    "# Cargar conjunto de datos"
   ]
  },
  {
   "cell_type": "code",
   "execution_count": 2,
   "id": "falling-provider",
   "metadata": {},
   "outputs": [],
   "source": [
    "df = pd.read_csv(\"data.csv\")"
   ]
  },
  {
   "cell_type": "markdown",
   "id": "pleased-fourth",
   "metadata": {},
   "source": [
    "### Información del conjunto de datos"
   ]
  },
  {
   "cell_type": "markdown",
   "id": "amazing-potential",
   "metadata": {},
   "source": [
    "El conjunto de datos contiene 10k observaciones las cuales fueron capturadas por $\\textbf{SDSS}$(Sloan Digital Sky Survey),la cual ha creado los mapas de 3 dimensiones más detallados del Universo, con imágenes profundas de varios colores, de  almenos un tercio del cielo y espectros para más de tres millones de objetos astronómicos. Cada observacion contiene 17 caracteristicas."
   ]
  },
  {
   "cell_type": "markdown",
   "id": "academic-montana",
   "metadata": {},
   "source": [
    "### Descripción de las caracteristicas"
   ]
  },
  {
   "cell_type": "markdown",
   "id": "directed-density",
   "metadata": {},
   "source": [
    "- $\\textbf{objid}$ : Identificador del objeto\n",
    "- $\\textbf{ra}$: Ascensión recta, abreviado como RA por sus siglas en ingles, la distancia angular medida hacia el este a lo largo del ecuador celeste desde el Sol en el equinoccio de marzo hasta el círculo horario del punto sobre la tierra.\n",
    "- $\\textbf{dec}$:La declinación, esta caracteristica es puesta en un par-ordenado junto con $\\textbf{ra}$, las cuales dan como resultado coordenadas astronomicas las cuales especifican la direccion de un punto en el sistema de coordenadas ecuatoriales.\n"
   ]
  },
  {
   "cell_type": "markdown",
   "id": "architectural-tragedy",
   "metadata": {},
   "source": [
    "- $\\textbf{u, g , r, i , z}$: Son magnitudes astronomicas del sistema Thuan-Gunn, las cuales representan la respuesta de las 5 bandas de un telescopio"
   ]
  },
  {
   "cell_type": "markdown",
   "id": "silver-request",
   "metadata": {},
   "source": [
    "- $\\textbf{run,rerun,camcol}$: Son caracteristicas las cuales describen un campo dentro de una imagen tomada por SDSS. Un campo es una parte de una imagen complemnta correspondiente a 2048 x 1498 pixeles."
   ]
  },
  {
   "cell_type": "markdown",
   "id": "gothic-arrow",
   "metadata": {},
   "source": [
    "- $\\textbf{specobjid}$: Indentificador unico del objeto \n",
    "- $\\textbf{redshift}$: El desplazamiento al rojo ocurre cuando la longitud de onda de la luz u otra radiación electromagnética de un objeto aumenta o se desplaza al extremo rojo del espectro.\n",
    "- $\\textbf{plate}$: Número de placa\n",
    "- $\\textbf{mjd}$: MJD de observación\n",
    "- $\\textbf{fiberid}$: Identificador de la fibra\n",
    "- $\\textbf{class}$:  START | GALAXY | QUASAR"
   ]
  },
  {
   "cell_type": "markdown",
   "id": "introductory-jerusalem",
   "metadata": {},
   "source": [
    "## Selección de caracteristicas"
   ]
  },
  {
   "cell_type": "code",
   "execution_count": 3,
   "id": "subtle-sleep",
   "metadata": {},
   "outputs": [
    {
     "data": {
      "text/plain": [
       "(array(['GALAXY', 'QSO', 'STAR'], dtype=object), array([4998,  850, 4152]))"
      ]
     },
     "execution_count": 3,
     "metadata": {},
     "output_type": "execute_result"
    }
   ],
   "source": [
    "useless_columns  = ['objid','specobjid','plate','class']\n",
    "Xdf = df.drop(columns=useless_columns,inplace=False,axis=1)\n",
    "X   = Xdf.values\n",
    "X_s = SS.fit_transform(X)\n",
    "y   = df[['class']].values.reshape(Xdf.shape[0])\n",
    "np.unique(y,return_counts=True)"
   ]
  },
  {
   "cell_type": "markdown",
   "id": "incomplete-anniversary",
   "metadata": {},
   "source": [
    "### Muestro del conjunto de datos"
   ]
  },
  {
   "cell_type": "code",
   "execution_count": 4,
   "id": "competent-married",
   "metadata": {},
   "outputs": [
    {
     "data": {
      "text/plain": [
       "(array(['GALAXY', 'QSO', 'STAR'], dtype=object), array([2989,  506, 2505]))"
      ]
     },
     "execution_count": 4,
     "metadata": {},
     "output_type": "execute_result"
    }
   ],
   "source": [
    "X_train,X_test , y_train,y_test = train_test_split(X_s,y,test_size=0.40,random_state=0) \n",
    "np.unique(y_train,return_counts=True)\n",
    "# X_train.shape,X_test.shape,y_train.shape,y_test.shape\n"
   ]
  },
  {
   "cell_type": "markdown",
   "id": "extra-progressive",
   "metadata": {},
   "source": [
    "### Regresion Logistica\n",
    "La regresión logística es un algoritmo de clasificación, el cual mediante el entrenamiento previo de realizar la tarea de clasificación, encontrará un modelo capaz de separar linealmente el conjunto de datos. Al ser un algoritmo el cual necesita  conocimiento previo antes de realizar la tarea clasificación es por eso que se denomina un algoritmo supervisado.  "
   ]
  },
  {
   "cell_type": "code",
   "execution_count": 5,
   "id": "naked-ancient",
   "metadata": {},
   "outputs": [],
   "source": [
    "clf = LogisticRegression(\n",
    "    # Cantidad maxima de iteracion para que el algortimo converja\n",
    "    max_iter=10000,\n",
    "    # \n",
    "    random_state=0,\n",
    "    # Numero de cores para realizar la tarea de entrenamiento en paralelo.\n",
    "    n_jobs=3,\n",
    "    # Parametero requerido para realizar regresion logistica multi-clase, (One vs Rest)\n",
    "    multi_class=\"ovr\",\n",
    ")"
   ]
  },
  {
   "cell_type": "markdown",
   "id": "ceramic-duplicate",
   "metadata": {},
   "source": [
    "#### Fase de entrenamiento\n",
    "El clasificador utiliza el entrenamiento para comprender como un nuevo vector característica está relacionado con las clases. "
   ]
  },
  {
   "cell_type": "code",
   "execution_count": 6,
   "id": "major-election",
   "metadata": {},
   "outputs": [
    {
     "data": {
      "text/plain": [
       "LogisticRegression(max_iter=10000, multi_class='ovr', n_jobs=3, random_state=0)"
      ]
     },
     "execution_count": 6,
     "metadata": {},
     "output_type": "execute_result"
    }
   ],
   "source": [
    "clf.fit(X_train,y_train)"
   ]
  },
  {
   "cell_type": "markdown",
   "id": "strange-trick",
   "metadata": {},
   "source": [
    "### "
   ]
  },
  {
   "cell_type": "code",
   "execution_count": 315,
   "id": "blessed-defensive",
   "metadata": {},
   "outputs": [],
   "source": [
    "%matplotlib inline\n",
    "# X_test_proba = clf.predict_proba(np.array())\n",
    "# p0 = X_test_proba[:,0]\n",
    "# p1 = X_test_proba[:,1]\n",
    "# p2 = X_test_proba[:,2]\n",
    "# fig = plt.figure(figsize=(6,6))\n",
    "# ax  = fig.add_subplot() \n",
    "# X_test[:,0].\n",
    "# ax.scatter(X_test[:,0],y_test)\n",
    "# ax.plot(range(x.shape[0]),p0,color=\"red\")\n",
    "# ax.scatter(range(4000),x,color=\"black\")\n",
    "# ax.scatter(x,y,z,color=\"black\")\n",
    "# x.shape\n"
   ]
  },
  {
   "cell_type": "code",
   "execution_count": 8,
   "id": "color-attribute",
   "metadata": {},
   "outputs": [],
   "source": [
    "y_pred = clf.predict(X_test)"
   ]
  },
  {
   "cell_type": "markdown",
   "id": "considerable-notebook",
   "metadata": {},
   "source": [
    "### Matriz de confusión"
   ]
  },
  {
   "cell_type": "code",
   "execution_count": 18,
   "id": "competitive-cooler",
   "metadata": {},
   "outputs": [
    {
     "data": {
      "text/plain": [
       "<sklearn.metrics._plot.confusion_matrix.ConfusionMatrixDisplay at 0x7f3a266cfb00>"
      ]
     },
     "execution_count": 18,
     "metadata": {},
     "output_type": "execute_result"
    },
    {
     "data": {
      "image/png": "[encoded data removed]",
      "text/plain": [
       "<Figure size 432x288 with 2 Axes>"
      ]
     },
     "metadata": {
      "needs_background": "light"
     },
     "output_type": "display_data"
    }
   ],
   "source": [
    "cm_values = CM(y_test,y_pred)\n",
    "PCM(clf,X_test,y_test,normalize='true')"
   ]
  },
  {
   "cell_type": "markdown",
   "id": "dramatic-substitute",
   "metadata": {},
   "source": [
    "## Exactitud\n",
    "La exactitud del modelo es el promedio total de elementos clasificados correctamente, la cual se obtiene utilizando la siguiente formula: \n",
    "\n",
    "$\n",
    "    \\mathbb{C_{s}} = \\{\\text{GALAXY,QSQ,START}\\} \\\\\n",
    "    \\mathbb{X} = \\text{Conjunto de datos}\\\\\n",
    "    A_{cc} = \\frac{\\sum_{i \\in \\mathbb{C_s}}  TP_i}{|\\mathbb{X}|}\n",
    "$"
   ]
  },
  {
   "cell_type": "markdown",
   "id": "integral-maximum",
   "metadata": {},
   "source": [
    "## Precision\n",
    "La precision de la clase $i$, se obtiene con la siguiente fórmula: \n",
    "$Pr_i = \\frac{TP_i}{TP_i + FP_i}$ \n",
    "\n",
    "Ejemplo 00: Precision de las clase 3 clases $\\mathbb{C_{s}}$ = {GALAXY,QSQ,START} \n",
    "\n",
    "$Pr_{\\text{GALAXY}} = \\frac{1922}{1922 + (30+67)} = 0.95$ \n",
    "\n",
    "$Pr_{\\text{QSQ}} = \\frac{313}{313 + (4+0)} = 0.99$ \n",
    "\n",
    "$Pr_{\\text{START}} = \\frac{1580}{1580 + (83+1)} = 0.95$ "
   ]
  },
  {
   "cell_type": "code",
   "execution_count": 27,
   "id": "egyptian-elite",
   "metadata": {},
   "outputs": [
    {
     "data": {
      "text/plain": [
       "<sklearn.metrics._plot.confusion_matrix.ConfusionMatrixDisplay at 0x7f3a260109e8>"
      ]
     },
     "execution_count": 27,
     "metadata": {},
     "output_type": "execute_result"
    },
    {
     "data": {
      "image/png": "[encoded data removed]",
      "text/plain": [
       "<Figure size 432x288 with 2 Axes>"
      ]
     },
     "metadata": {
      "needs_background": "light"
     },
     "output_type": "display_data"
    }
   ],
   "source": [
    "PCM(clf,X_test,y_test)"
   ]
  },
  {
   "cell_type": "markdown",
   "id": "instrumental-christopher",
   "metadata": {},
   "source": [
    "## Sensitividad(Recall)\n",
    "La sentitividad de la clase $i$, se obtiene con la siguiente fórmula:\n",
    "$S_{i} = \\frac{TP_i}{TP_i + FN_i}$\n",
    "\n",
    "Ejemplo 01: Sensitividad de las clase 3 clases $\\mathbb{C_{s}}$ = {GALAXY,QSQ,START} \n",
    "\n",
    "$S_{\\text{GALAXY}} = \\frac{1922}{1922 + (4+83)} = 0.96$\n",
    "\n",
    "$S_{\\text{QSQ}} = \\frac{313}{313 + (30+1)} = 0.91$ \n",
    "\n",
    "$S_{\\text{START}} = \\frac{1580}{1580 + (67+0)} = 0.96$ "
   ]
  },
  {
   "cell_type": "markdown",
   "id": "clear-flower",
   "metadata": {},
   "source": [
    "## Macro - Promedio"
   ]
  },
  {
   "cell_type": "code",
   "execution_count": null,
   "id": "exciting-sheep",
   "metadata": {},
   "outputs": [],
   "source": []
  },
  {
   "cell_type": "code",
   "execution_count": 16,
   "id": "hundred-radius",
   "metadata": {},
   "outputs": [
    {
     "name": "stdout",
     "output_type": "stream",
     "text": [
      "              precision    recall  f1-score   support\n",
      "\n",
      "      GALAXY       0.95      0.96      0.95      2009\n",
      "         QSO       0.99      0.91      0.95       344\n",
      "        STAR       0.95      0.96      0.95      1647\n",
      "\n",
      "    accuracy                           0.95      4000\n",
      "   macro avg       0.96      0.94      0.95      4000\n",
      "weighted avg       0.95      0.95      0.95      4000\n",
      "\n"
     ]
    }
   ],
   "source": [
    "print(CR(y_test,y_pred))"
   ]
  }
 ],
 "metadata": {
  "kernelspec": {
   "display_name": "Python 3",
   "language": "python",
   "name": "python3"
  },
  "language_info": {
   "codemirror_mode": {
    "name": "ipython",
    "version": 3
   },
   "file_extension": ".py",
   "mimetype": "text/x-python",
   "name": "python",
   "nbconvert_exporter": "python",
   "pygments_lexer": "ipython3",
   "version": "3.6.9"
  }
 },
 "nbformat": 4,
 "nbformat_minor": 5
}
