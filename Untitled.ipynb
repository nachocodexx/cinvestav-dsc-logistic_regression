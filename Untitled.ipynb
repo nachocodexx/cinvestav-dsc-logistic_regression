{
 "cells": [
  {
   "cell_type": "code",
   "execution_count": 1,
   "id": "southeast-piece",
   "metadata": {},
   "outputs": [],
   "source": [
    "import numpy as np \n",
    "import pandas as pd\n",
    "import matplotlib.pyplot as plt\n",
    "import seaborn as sns\n",
    "from sklearn.model_selection import train_test_split\n",
    "from sklearn.linear_model import LogisticRegression\n",
    "from sklearn.metrics import confusion_matrix as CM,plot_confusion_matrix as PCM,classification_report as CR\n",
    "from sklearn.preprocessing import StandardScaler \n",
    "SS = StandardScaler()"
   ]
  },
  {
   "cell_type": "markdown",
   "id": "welcome-williams",
   "metadata": {},
   "source": [
    "# Cargar conjunto de datos"
   ]
  },
  {
   "cell_type": "code",
   "execution_count": 2,
   "id": "falling-provider",
   "metadata": {},
   "outputs": [],
   "source": [
    "df = pd.read_csv(\"data.csv\")"
   ]
  },
  {
   "cell_type": "markdown",
   "id": "pleased-fourth",
   "metadata": {},
   "source": [
    "### Información del conjunto de datos"
   ]
  },
  {
   "cell_type": "markdown",
   "id": "amazing-potential",
   "metadata": {},
   "source": [
    "El conjunto de datos contiene 10k observaciones las cuales fueron capturadas por $\\textbf{SDSS}$(Sloan Digital Sky Survey),la cual ha creado los mapas de 3 dimensiones más detallados del Universo, con imágenes profundas de varios colores, de  almenos un tercio del cielo y espectros para más de tres millones de objetos astronómicos. Cada observacion contiene 17 caracteristicas."
   ]
  },
  {
   "cell_type": "markdown",
   "id": "academic-montana",
   "metadata": {},
   "source": [
    "### Descripción de las caracteristicas"
   ]
  },
  {
   "cell_type": "markdown",
   "id": "directed-density",
   "metadata": {},
   "source": [
    "- $\\textbf{objid}$ : Identificador del objeto\n",
    "- $\\textbf{ra}$: Ascensión recta, abreviado como RA por sus siglas en ingles, la distancia angular medida hacia el este a lo largo del ecuador celeste desde el Sol en el equinoccio de marzo hasta el círculo horario del punto sobre la tierra.\n",
    "- $\\textbf{dec}$:La declinación, esta caracteristica es puesta en un par-ordenado junto con $\\textbf{ra}$, las cuales dan como resultado coordenadas astronomicas las cuales especifican la direccion de un punto en el sistema de coordenadas ecuatoriales.\n"
   ]
  },
  {
   "cell_type": "markdown",
   "id": "architectural-tragedy",
   "metadata": {},
   "source": [
    "- $\\textbf{u, g , r, i , z}$: Son magnitudes astronomicas del sistema Thuan-Gunn, las cuales representan la respuesta de las 5 bandas de un telescopio"
   ]
  },
  {
   "cell_type": "markdown",
   "id": "silver-request",
   "metadata": {},
   "source": [
    "- $\\textbf{run,rerun,camcol}$: Son caracteristicas las cuales describen un campo dentro de una imagen tomada por SDSS. Un campo es una parte de una imagen complemnta correspondiente a 2048 x 1498 pixeles."
   ]
  },
  {
   "cell_type": "markdown",
   "id": "gothic-arrow",
   "metadata": {},
   "source": [
    "- $\\textbf{specobjid}$: Indentificador unico del objeto \n",
    "- $\\textbf{redshift}$: El desplazamiento al rojo ocurre cuando la longitud de onda de la luz u otra radiación electromagnética de un objeto aumenta o se desplaza al extremo rojo del espectro.\n",
    "- $\\textbf{plate}$: Número de placa\n",
    "- $\\textbf{mjd}$: MJD de observación\n",
    "- $\\textbf{fiberid}$: Identificador de la fibra\n",
    "- $\\textbf{class}$:  STAR | GALAXY | QUASAR"
   ]
  },
  {
   "cell_type": "code",
   "execution_count": 111,
   "id": "superior-vehicle",
   "metadata": {},
   "outputs": [
    {
     "name": "stdout",
     "output_type": "stream",
     "text": [
      "<class 'pandas.core.frame.DataFrame'>\n",
      "RangeIndex: 10000 entries, 0 to 9999\n",
      "Data columns (total 18 columns):\n",
      " #   Column     Non-Null Count  Dtype  \n",
      "---  ------     --------------  -----  \n",
      " 0   objid      10000 non-null  float64\n",
      " 1   ra         10000 non-null  float64\n",
      " 2   dec        10000 non-null  float64\n",
      " 3   u          10000 non-null  float64\n",
      " 4   g          10000 non-null  float64\n",
      " 5   r          10000 non-null  float64\n",
      " 6   i          10000 non-null  float64\n",
      " 7   z          10000 non-null  float64\n",
      " 8   run        10000 non-null  int64  \n",
      " 9   rerun      10000 non-null  int64  \n",
      " 10  camcol     10000 non-null  int64  \n",
      " 11  field      10000 non-null  int64  \n",
      " 12  specobjid  10000 non-null  float64\n",
      " 13  class      10000 non-null  object \n",
      " 14  redshift   10000 non-null  float64\n",
      " 15  plate      10000 non-null  int64  \n",
      " 16  mjd        10000 non-null  int64  \n",
      " 17  fiberid    10000 non-null  int64  \n",
      "dtypes: float64(10), int64(7), object(1)\n",
      "memory usage: 1.4+ MB\n"
     ]
    }
   ],
   "source": [
    "df.info()"
   ]
  },
  {
   "cell_type": "markdown",
   "id": "introductory-jerusalem",
   "metadata": {},
   "source": [
    "### Selección de caracteristicas\n",
    "Se eliminan las caracteristicas nominales, en este caso en especifico se elimina $\\mathbf{objid}$, $\\mathbf{specobjid}$, $\\mathbf{plate}, \\mathbf{fiberid}$, estas caracteristicas son identificadores unicos y no aportan nada al entrenamiento del modelo. Tambien se elimina la columna de $\\mathbf{class}$ debido a que es la columna de clase, la cual tiene la clasificacion correcta de la tupla."
   ]
  },
  {
   "cell_type": "code",
   "execution_count": 151,
   "id": "subtle-sleep",
   "metadata": {},
   "outputs": [
    {
     "data": {
      "text/plain": [
       "(array(['GALAXY', 'QSO', 'STAR'], dtype=object), array([4998,  850, 4152]))"
      ]
     },
     "execution_count": 151,
     "metadata": {},
     "output_type": "execute_result"
    }
   ],
   "source": [
    "useless_columns  = ['objid','specobjid','plate','class','fiberid']\n",
    "Xdf = df.drop(columns=useless_columns,inplace=False,axis=1)\n",
    "X   = Xdf.values\n",
    "X_s = SS.fit_transform(X)\n",
    "y   = df[['class']].values.reshape(Xdf.shape[0])\n",
    "np.unique(y,return_counts=True)"
   ]
  },
  {
   "cell_type": "markdown",
   "id": "incomplete-anniversary",
   "metadata": {},
   "source": [
    "### Muestro del conjunto de datos\n",
    "Se divide el conjunto de datos, donde se realiza un subconjunto que consta del 80% para entrenamiento y el 20% restante para pruebas."
   ]
  },
  {
   "cell_type": "code",
   "execution_count": 152,
   "id": "competent-married",
   "metadata": {},
   "outputs": [
    {
     "data": {
      "text/plain": [
       "((array(['GALAXY', 'QSO', 'STAR'], dtype=object), array([3999,  672, 3329])),\n",
       " (array(['GALAXY', 'QSO', 'STAR'], dtype=object), array([999, 178, 823])))"
      ]
     },
     "execution_count": 152,
     "metadata": {},
     "output_type": "execute_result"
    }
   ],
   "source": [
    "X_train,X_test , y_train,y_test = train_test_split(X_s,y,test_size=0.20,random_state=0) \n",
    "np.unique(y_train,return_counts=True), np.unique(y_test,return_counts=True)"
   ]
  },
  {
   "cell_type": "markdown",
   "id": "extra-progressive",
   "metadata": {},
   "source": [
    "### Regresion Logistica\n",
    "La regresión logística es un algoritmo de clasificación, el cual se utiliza para modelar probabilidades y asignar observacion a una clase.\n",
    "\n",
    "La principal diferencia entre la regresion logistica y la regresion lineal, es que la variable dependiende en la regresion lineal es siempre continua y en la regresion logistica es categorica(e.g Verdadero o Falso). \n",
    "<!-- el cual mediante el entrenamiento previo de realizar la tarea de clasificación, encontrará un modelo capaz de separar linealmente el conjunto de datos. Al ser un algoritmo el cual necesita  conocimiento previo antes de realizar la tarea clasificación es por eso que se denomina un algoritmo supervisado.   -->"
   ]
  },
  {
   "cell_type": "code",
   "execution_count": 145,
   "id": "naked-ancient",
   "metadata": {},
   "outputs": [],
   "source": [
    "clf = LogisticRegression(\n",
    "    # Cantidad maxima de iteracion para que el algortimo converja\n",
    "    max_iter=10000,\n",
    "    # \n",
    "    random_state=0,\n",
    "    # Numero de cores para realizar la tarea de entrenamiento en paralelo.\n",
    "    n_jobs=3,\n",
    "    # Parametero requerido para realizar regresion logistica multi-clase, (One vs Rest)\n",
    "    multi_class=\"ovr\",\n",
    ")"
   ]
  },
  {
   "cell_type": "markdown",
   "id": "clean-resource",
   "metadata": {},
   "source": [
    "One vs Rest implica dividir el conjunto de datos de múltiples clases en varios problemas de clasificación binaria. Luego, se entrena un clasificador binario en cada problema de clasificación binaria y se hacen predicciones utilizando el modelo que es más confiable."
   ]
  },
  {
   "cell_type": "markdown",
   "id": "japanese-utilization",
   "metadata": {},
   "source": [
    "\n",
    "<img src=\"images/img2.png\" width=\"400\" height=\"200\">\n",
    "<img src=\"images/img1.jpeg\" width=\"400\" height=\"200\">\n"
   ]
  },
  {
   "cell_type": "code",
   "execution_count": 148,
   "id": "removed-iraqi",
   "metadata": {},
   "outputs": [
    {
     "data": {
      "text/plain": [
       "((3, 13), (3,))"
      ]
     },
     "execution_count": 148,
     "metadata": {},
     "output_type": "execute_result"
    }
   ],
   "source": [
    "clf.coef_.shape,clf.intercept_.shape"
   ]
  },
  {
   "cell_type": "markdown",
   "id": "ceramic-duplicate",
   "metadata": {},
   "source": [
    "#### Fase de entrenamiento\n",
    "El clasificador utiliza el entrenamiento para comprender como un nuevo vector característica está relacionado con las clases. "
   ]
  },
  {
   "cell_type": "code",
   "execution_count": 146,
   "id": "major-election",
   "metadata": {},
   "outputs": [
    {
     "data": {
      "text/plain": [
       "LogisticRegression(max_iter=10000, multi_class='ovr', n_jobs=3, random_state=0)"
      ]
     },
     "execution_count": 146,
     "metadata": {},
     "output_type": "execute_result"
    }
   ],
   "source": [
    "clf.fit(X_train,y_train)"
   ]
  },
  {
   "cell_type": "markdown",
   "id": "strange-trick",
   "metadata": {},
   "source": [
    "#### Predicciòn"
   ]
  },
  {
   "cell_type": "code",
   "execution_count": 147,
   "id": "color-attribute",
   "metadata": {},
   "outputs": [],
   "source": [
    "y_pred = clf.predict(X_test)"
   ]
  },
  {
   "cell_type": "markdown",
   "id": "considerable-notebook",
   "metadata": {},
   "source": [
    "### Matriz de confusión\n",
    "Una matriz de confusión es una tabla que se usa a menudo para describir el desempeño de un modelo de clasificación (o \"clasificador\") en un conjunto de datos de prueba para los cuales se conocen los valores verdaderos.\n",
    "\n",
    "$\\mathbb{C_{s}} = \\{\\text{GALAXY,QSQ,STAR}\\}$\n",
    "\n",
    "$TP_i$ = Vector de caracteristicas de la clase $i$  clasificado correctamente como $i$, donde $i \\in \\mathbb{C_s}$\n",
    "\n",
    "$FN_i$ = Vector de caracteristicas de la clase $i$, se clasifica como $j$, donde $i\\neq j \\wedge i,j \\in \\mathbb{C_s}$, Horizonal\n",
    "\n",
    "\n",
    "$FP_i$ = Vector de caracteristicas de la clase $j$, se clasifica como $i$, donde $i\\neq j \\wedge i,j \\in \\mathbb{C_s}$, Vertical"
   ]
  },
  {
   "cell_type": "code",
   "execution_count": 153,
   "id": "competitive-cooler",
   "metadata": {},
   "outputs": [
    {
     "data": {
      "text/plain": [
       "<sklearn.metrics._plot.confusion_matrix.ConfusionMatrixDisplay at 0x7fb76d065370>"
      ]
     },
     "execution_count": 153,
     "metadata": {},
     "output_type": "execute_result"
    },
    {
     "data": {
      "image/png": "[encoded data removed]",
      "text/plain": [
       "<Figure size 432x288 with 2 Axes>"
      ]
     },
     "metadata": {
      "needs_background": "light"
     },
     "output_type": "display_data"
    }
   ],
   "source": [
    "cm_values = CM(y_test,y_pred)\n",
    "# PCM(clf,X_test,y_test,normalize='true')\n",
    "PCM(clf,X_test,y_test)"
   ]
  },
  {
   "cell_type": "markdown",
   "id": "dramatic-substitute",
   "metadata": {},
   "source": [
    "## Exactitud\n",
    "La exactitud del modelo es el promedio total de elementos clasificados correctamente, la cual se obtiene utilizando la siguiente formula: \n",
    "\n",
    "$\n",
    "    \\mathbb{C_{s}} = \\{\\text{GALAXY,QSQ,STAR}\\} \\\\\n",
    "    \\mathbb{X} = \\text{Conjunto de datos}\\\\\n",
    "    A_{cc} = \\frac{\\sum_{i \\in \\mathbb{C_s}}  TP_i}{|\\mathbb{X}|}\n",
    "$\n",
    "$A_{cc} = \\frac{958+160+788}{2000}= 0.95$\n",
    "\n",
    "Indica la proporcion de elementos clasificados de forma correcta. "
   ]
  },
  {
   "cell_type": "markdown",
   "id": "integral-maximum",
   "metadata": {},
   "source": [
    "## Precision\n",
    "La precision de la clase $i$, se obtiene con la siguiente fórmula: \n",
    "$Pr_i = \\frac{TP_i}{TP_i + FP_i}$ \n",
    "\n",
    "Ejemplo 00: Precision de las clase 3 clases $\\mathbb{C_{s}}$ = {GALAXY,QSQ,STAR} \n",
    "\n",
    "La precision responde a la pregunta: que proporcion de vectores de caracteristicas clasificados como la clase $i$ son realmente de la clase $i$?\n",
    "\n",
    "$Pr_{\\text{GALAXY}} = \\frac{959}{959 + (18+33)} = 0.95$ \n",
    "\n",
    "95% de los vectores de características que se clasifican como GALAXIAS son en realidad GALAXIAS\n",
    "\n",
    "$Pr_{\\text{QSQ}} = \\frac{160}{160 + (4+0)} = 0.98$ \n",
    "\n",
    "98% de los vectores de características que se clasifican como QUASARs son en realidad QUASARs\n",
    "\n",
    "$Pr_{\\text{STAR}} = \\frac{790}{790 + (36+0)} = 0.96$ \n",
    "\n",
    "96% de los vectores de característica que se clasifican como estrellas son en realidad estrellas"
   ]
  },
  {
   "cell_type": "markdown",
   "id": "classified-environment",
   "metadata": {},
   "source": [
    "<!-- ![alt text](images/img0.png \"Title\") -->\n",
    "<img src=\"images/img0.png\" width=\"400\" height=\"200\">"
   ]
  },
  {
   "cell_type": "code",
   "execution_count": 162,
   "id": "black-narrative",
   "metadata": {},
   "outputs": [
    {
     "name": "stdout",
     "output_type": "stream",
     "text": [
      "PRECISION(0):  0.3333333333333333\n",
      "PRECISION(1):  0.6666666666666666\n"
     ]
    }
   ],
   "source": [
    "yy_test = np.array(['STAR','STAR','GALAXY','GALAXY'])\n",
    "yy_pred = np.array(['GALAXY','STAR','STAR','STAR'])\n",
    "precision = 1 /(1+2)\n",
    "print(\"PRECISION(0): \",precision)\n",
    "# \n",
    "yy_test = np.array(['STAR','STAR','GALAXY','GALAXY'])\n",
    "yy_pred = np.array(['STAR','STAR','STAR','GALAXY'])\n",
    "precision = 2 /(2+1)\n",
    "print(\"PRECISION(1): \",precision)\n",
    "# "
   ]
  },
  {
   "cell_type": "code",
   "execution_count": 154,
   "id": "egyptian-elite",
   "metadata": {},
   "outputs": [
    {
     "data": {
      "text/plain": [
       "<sklearn.metrics._plot.confusion_matrix.ConfusionMatrixDisplay at 0x7fb76d246730>"
      ]
     },
     "execution_count": 154,
     "metadata": {},
     "output_type": "execute_result"
    },
    {
     "data": {
      "image/png": "[encoded data removed]",
      "text/plain": [
       "<Figure size 432x288 with 2 Axes>"
      ]
     },
     "metadata": {
      "needs_background": "light"
     },
     "output_type": "display_data"
    }
   ],
   "source": [
    "PCM(clf,X_test,y_test,normalize='true')"
   ]
  },
  {
   "cell_type": "markdown",
   "id": "instrumental-christopher",
   "metadata": {},
   "source": [
    "## Sensitividad(Recall)\n",
    "La sentitividad de la clase $i$, se obtiene con la siguiente fórmula:\n",
    "$S_{i} = \\frac{TP_i}{TP_i + FN_i}$\n",
    "\n",
    "Ejemplo 01: Sensitividad de las clase 3 clases $\\mathbb{C_{s}}$ = {GALAXY,QSQ,STAR} \n",
    "\n",
    "<!-- La sensitividad responde a la pregunta: que proporcion de vectores de caracteristicas que son clasificados como $i$ correctamente? -->\n",
    "\n",
    "$S_{\\text{GALAXY}} = \\frac{959}{959 + (4+36)} = 0.96$\n",
    "\n",
    "el 96% de las Galaxias son clasificados como GALAXY\n",
    "\n",
    "$S_{\\text{QSQ}} = \\frac{160}{160 + (18+0)} = 0.90$ \n",
    "\n",
    "el 90% de las Quasars son clasificados como QSQ\n",
    "\n",
    "$S_{\\text{STAR}} = \\frac{790}{790 + (33+0)} = 0.96$ \n",
    "\n",
    "el 96% de las Estrellas  son clasificados como STAR\n",
    "<!-- Que porcion de positivos es correcatamente clasificado. -->"
   ]
  },
  {
   "cell_type": "code",
   "execution_count": 163,
   "id": "spare-sugar",
   "metadata": {},
   "outputs": [
    {
     "name": "stdout",
     "output_type": "stream",
     "text": [
      "SENSITIVITY(0):  0.3333333333333333\n",
      "SENSITIVITY(1):  0.6666666666666666\n"
     ]
    }
   ],
   "source": [
    "yy_test = np.array(['STAR','STAR','STAR','GALAXY'])\n",
    "yy_pred = np.array(['GALAXY','GALAXY','STAR','QSO'])\n",
    "sensitivity = 1 /(1+2)\n",
    "print(\"SENSITIVITY(0): \",sensitivity)\n",
    "yy_test = np.array(['STAR','STAR','STAR','GALAXY'])\n",
    "yy_pred = np.array(['STAR','STAR','GALAXY','QSO'])\n",
    "sensitivity = 2 /(2+1)\n",
    "print(\"SENSITIVITY(1): \",sensitivity)"
   ]
  },
  {
   "cell_type": "markdown",
   "id": "cellular-queensland",
   "metadata": {},
   "source": [
    "## Micro-average\n",
    "\n",
    "Las métricas micro-promediadas deben usarse cuando el tamaño de los conjuntos de datos es variable.\n",
    "\n",
    "$Mic_{Pr} = \\frac{\\sum_{i \\in \\mathbb{C_s}}  TP_i}{\\sum_{i \\in \\mathbb{C_s}}  (TP_i+FP_i)} = \\frac{959+160+790}{(959+160+790) + (18+33)+(4+0)+(36+0)}=0.9545$ \n",
    "\n",
    "$Mic_{S} = \\frac{\\sum_{i \\in \\mathbb{C_s}}  TP_i}{\\sum_{i \\in \\mathbb{C_s}}  (TP_i+FN_i)} = \\frac{959+160+790}{(959+160+790) + (4+36)+(18+0)+(33+0)}=0.9545$ \n"
   ]
  },
  {
   "cell_type": "markdown",
   "id": "clear-flower",
   "metadata": {},
   "source": [
    "## Macro-average\n",
    "\n",
    "Las métricas macro-promediadas se utilizan cuando queremos evaluar el rendimiento de los sistemas en diferentes conjuntos de datos.\n",
    "\n",
    "$Mac_{Pr} = \\frac{\\sum_{i \\in \\mathbb{C_s}}  Pr_i}{|\\mathbb{C_s}|} = \\frac{0.95+0.98+0.96}{3} = 0.96$ \n",
    "\n",
    "$Mac_{S} = \\frac{\\sum_{i \\in \\mathbb{C_s}}  S_i}{|\\mathbb{C_s}|}=\\frac{0.96+0.90+0.96}{3}=0.94$ "
   ]
  },
  {
   "cell_type": "markdown",
   "id": "blond-brunswick",
   "metadata": {},
   "source": [
    "### F1-score\n",
    "\n",
    "Harmonic mean:\n",
    "\n",
    "$H = (\\frac{\\sum_{i=1} ^{n} x_{i}^{-1} }{n})^{-1}$\n",
    "\n",
    "n = 2 \n",
    "\n",
    "$H_2 = \\frac{2}{\\frac{1}{x_1} + \\frac{1}{x_2}} $\n",
    "\n",
    "$H_2 = \\frac{2}{\\frac{x_2 + x_1}{x_1\\cdot x_2}}  = \\frac{2\\cdot x_1\\cdot x_2}{x_1+x_2}$\n",
    "\n",
    "$F1_{score(i)} = H_2 $\n",
    "\n",
    "$F1_{score(i)} = \\frac{2\\cdot P_i \\cdot S_i}{P_i + S_i}$\n",
    "\n",
    "$F1_{score(GALAXY)} = \\frac{2\\cdot P_{GALAXY} \\cdot S_{GALAXY}}{P_{GALAXY} + S_{GALAXY}} = 2 \\frac{0.95 \\cdot 0.96}{0.95 + 0.96} = 0.95$\n",
    "\n",
    "\n",
    "$F1_{score(QSO)} = \\frac{2\\cdot P_{QSO} \\cdot S_{QSO}}{P_{QSO} + S_{QSO}} = 2 \\frac{0.98 \\cdot 0.90}{0.98 + 0.90} = 0.94$\n",
    "\n",
    "\n",
    "$F1_{score(STAR)} = \\frac{2\\cdot P_{STAR} \\cdot S_{STAR}}{P_{STAR} + S_{STAR}} = 2 \\frac{0.96 \\cdot 0.96}{0.96 + 0.96} = 0.96$"
   ]
  },
  {
   "cell_type": "code",
   "execution_count": 129,
   "id": "hundred-radius",
   "metadata": {},
   "outputs": [
    {
     "name": "stdout",
     "output_type": "stream",
     "text": [
      "              precision    recall  f1-score   support\n",
      "\n",
      "      GALAXY       0.95      0.96      0.95       999\n",
      "         QSO       0.98      0.90      0.94       178\n",
      "        STAR       0.96      0.96      0.96       823\n",
      "\n",
      "    accuracy                           0.95      2000\n",
      "   macro avg       0.96      0.94      0.95      2000\n",
      "weighted avg       0.95      0.95      0.95      2000\n",
      "\n"
     ]
    }
   ],
   "source": [
    "print(CR(y_test,y_pred))"
   ]
  }
 ],
 "metadata": {
  "kernelspec": {
   "display_name": "Python 3",
   "language": "python",
   "name": "python3"
  },
  "language_info": {
   "codemirror_mode": {
    "name": "ipython",
    "version": 3
   },
   "file_extension": ".py",
   "mimetype": "text/x-python",
   "name": "python",
   "nbconvert_exporter": "python",
   "pygments_lexer": "ipython3",
   "version": "3.8.5"
  }
 },
 "nbformat": 4,
 "nbformat_minor": 5
}
